{
  "nbformat": 4,
  "nbformat_minor": 0,
  "metadata": {
    "colab": {
      "name": "webscraping_basics.ipynb",
      "version": "0.3.2",
      "provenance": [],
      "toc_visible": true,
      "include_colab_link": true
    },
    "kernelspec": {
      "name": "python3",
      "display_name": "Python 3"
    }
  },
  "cells": [
    {
      "cell_type": "markdown",
      "metadata": {
        "id": "view-in-github",
        "colab_type": "text"
      },
      "source": [
        "<a href=\"https://colab.research.google.com/github/NovaMaja/webscraping/blob/master/webscraping_basics.ipynb\" target=\"_parent\"><img src=\"https://colab.research.google.com/assets/colab-badge.svg\" alt=\"Open In Colab\"/></a>"
      ]
    },
    {
      "metadata": {
        "id": "C4hlywfWS6lM",
        "colab_type": "text"
      },
      "cell_type": "markdown",
      "source": [
        "# Basic web scraping with Beautiful Soup\n",
        "This notebook is meant to show the basic principles of webscraping using a very simple example page located at: https://novainstitute.ca/examples/examplePage.html \n",
        "\n",
        "Before we start please open the [example page](https://novainstitute.ca/examples/examplePage.html ) in your web browser (we recommend [chrome](https://www.google.com/chrome/)).\n",
        "\n",
        "*This notebook and example materials is developed by [Nova Institute](https://novainstitute.ca) and is released under the [MIT license](https://https://github.com/NovaMaja/webscraping/blob/master/LICENSE). *\n"
      ]
    },
    {
      "metadata": {
        "id": "rVJxRjigT0lT",
        "colab_type": "text"
      },
      "cell_type": "markdown",
      "source": [
        "##Imports\n",
        "###requests\n",
        "We will use the **requests** library to get the raw html from a webpage. **requests** makes all http requests simple, and you can use it with GET, POST, PUT, DELETE, HEAD, OPTIONS and there are a lot of useful functions included in the library. See http://docs.python-requests.org/ for more info on the **requests** library.\n",
        "\n",
        "###BeautifulSoup\n",
        "**Beautiful Soup** is a library for parsing web pages. It makes a parsing tree of a webpage based on the html structure. With a parsing tree it is easy to navigate through the contents of the webpage and get the information we are looking for. The **Beautiful Soup** [Documentation](https://www.crummy.com/software/BeautifulSoup/bs4/doc/) has a great quickstart section to get you started.\n"
      ]
    },
    {
      "metadata": {
        "id": "MzRH5WntTsL-",
        "colab_type": "code",
        "colab": {}
      },
      "cell_type": "code",
      "source": [
        "import requests\n",
        "from bs4 import BeautifulSoup\n"
      ],
      "execution_count": 0,
      "outputs": []
    },
    {
      "metadata": {
        "id": "hkhWUuC6UqAq",
        "colab_type": "text"
      },
      "cell_type": "markdown",
      "source": [
        "##Get and parse the web page\n",
        "The first thing we will do is to go to indeed.com in our browser (we recommend chrome) and do a search for a job we are interested in. In our case we searched for Data Scientist in Toronto, ON.\n",
        "\n",
        "Once we have a serach we are happy with we need to copy the url from the browser and paste it as an argument to the requests.get() function.\n",
        "\n",
        "After we loaded the webpage into our page variable we will pass it on to BautifulSoup to parse it into a parsing tree for us, using html.parser"
      ]
    },
    {
      "metadata": {
        "id": "jdsxdNcOUba5",
        "colab_type": "code",
        "colab": {}
      },
      "cell_type": "code",
      "source": [
        "page = requests.get('https://novainstitute.ca/examples/examplePage.html')"
      ],
      "execution_count": 0,
      "outputs": []
    },
    {
      "metadata": {
        "id": "NErXEy1kUnkc",
        "colab_type": "code",
        "colab": {}
      },
      "cell_type": "code",
      "source": [
        "soup = BeautifulSoup(page.text, 'html.parser')"
      ],
      "execution_count": 0,
      "outputs": []
    },
    {
      "metadata": {
        "id": "qe6MrzACUy8R",
        "colab_type": "text"
      },
      "cell_type": "markdown",
      "source": [
        "soup has a function called prettify() that makes the parsing tree more human readable. We will use it to print out the information we gathered."
      ]
    },
    {
      "metadata": {
        "id": "1B8AKLz1VjD5",
        "colab_type": "code",
        "colab": {}
      },
      "cell_type": "code",
      "source": [
        "print(soup.prettify())"
      ],
      "execution_count": 0,
      "outputs": []
    },
    {
      "metadata": {
        "id": "bk3LbFh5U5vz",
        "colab_type": "text"
      },
      "cell_type": "markdown",
      "source": [
        "We can extract elements based on their tags using our parsing tree. For example, this is how to display only the title of the web-page:"
      ]
    },
    {
      "metadata": {
        "id": "Qvr6VtPdVr5q",
        "colab_type": "code",
        "colab": {}
      },
      "cell_type": "code",
      "source": [
        "title = soup.title.contents[0]\n",
        "title = title.strip()\n",
        "print(title)"
      ],
      "execution_count": 0,
      "outputs": []
    },
    {
      "metadata": {
        "id": "OqQqHoUtVF72",
        "colab_type": "text"
      },
      "cell_type": "markdown",
      "source": [
        "If we want just the text in the body section we can get that too:"
      ]
    },
    {
      "metadata": {
        "id": "Yb1LJCA5V-71",
        "colab_type": "code",
        "colab": {}
      },
      "cell_type": "code",
      "source": [
        "bodytext = soup.p.contents[0]\n",
        "bodytext = bodytext.strip()\n",
        "print(bodytext)"
      ],
      "execution_count": 0,
      "outputs": []
    },
    {
      "metadata": {
        "id": "M3JIz0GKV4BD",
        "colab_type": "text"
      },
      "cell_type": "markdown",
      "source": [
        "You can even find all the links on the page:"
      ]
    },
    {
      "metadata": {
        "id": "eKlJgkKcYT-8",
        "colab_type": "code",
        "colab": {}
      },
      "cell_type": "code",
      "source": [
        "websites = soup.find_all('a')\n",
        "for website in websites:\n",
        "  website = website[\"href\"]\n",
        "  print(website)"
      ],
      "execution_count": 0,
      "outputs": []
    },
    {
      "metadata": {
        "id": "QutuULdAV-2g",
        "colab_type": "text"
      },
      "cell_type": "markdown",
      "source": [
        "##Downloading images\n",
        "We can get the url for an image much the same way as we get the url for a link, but we want to download the image itself. For this we will write a small function using requests.get."
      ]
    },
    {
      "metadata": {
        "id": "UIVIMJXqcjQQ",
        "colab_type": "code",
        "colab": {}
      },
      "cell_type": "code",
      "source": [
        "def downloadImage(url, filename):\n",
        "  img = requests.get(url)\n",
        "  \n",
        "  with open(filename, \"wb\") as code:\n",
        "    code.write(img.content)"
      ],
      "execution_count": 0,
      "outputs": []
    },
    {
      "metadata": {
        "id": "QnXXOzY6WwxF",
        "colab_type": "text"
      },
      "cell_type": "markdown",
      "source": [
        "Now we can get the urls for the images, and use the function we already defined to download those images."
      ]
    },
    {
      "metadata": {
        "id": "eFKcnYUubUsP",
        "colab_type": "code",
        "colab": {}
      },
      "cell_type": "code",
      "source": [
        "images = soup.find_all('img')\n",
        "i = 0;\n",
        "for image in images:\n",
        "  image = image[\"src\"]\n",
        "  print(image)\n",
        "  downloadImage(image,\"img{}.png\".format(i))\n",
        "  i += 1\n",
        "\n",
        "\n"
      ],
      "execution_count": 0,
      "outputs": []
    },
    {
      "metadata": {
        "id": "GzohRJ2yXLdM",
        "colab_type": "text"
      },
      "cell_type": "markdown",
      "source": [
        "If you are using google colab to run this notebook you should find a file called img0.png under the files tab in the menu on the left (you may need to click the little arrow button to see the menu)\n",
        "\n",
        "If you are running the notebook locally you should find the file in the same directory as your notebook."
      ]
    }
  ]
}